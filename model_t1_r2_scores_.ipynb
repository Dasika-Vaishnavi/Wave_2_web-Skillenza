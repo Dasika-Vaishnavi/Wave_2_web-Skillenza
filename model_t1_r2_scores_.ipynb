{
 "cells": [
  {
   "cell_type": "markdown",
   "metadata": {},
   "source": [
    "    #r2_score between res_level and outflow"
   ]
  },
  {
   "cell_type": "code",
   "execution_count": 20,
   "metadata": {},
   "outputs": [
    {
     "name": "stdout",
     "output_type": "stream",
     "text": [
      "0.1501154013497763\n"
     ]
    },
    {
     "data": {
      "text/plain": [
       "<matplotlib.collections.PathCollection at 0x24ebc0322b0>"
      ]
     },
     "execution_count": 20,
     "metadata": {},
     "output_type": "execute_result"
    },
    {
     "data": {
      "image/png": "[encoded data removed]",
      "text/plain": [
       "<Figure size 432x288 with 1 Axes>"
      ]
     },
     "metadata": {
      "needs_background": "light"
     },
     "output_type": "display_data"
    }
   ],
   "source": [
    "import pandas as pd\n",
    "import datetime\n",
    "import sklearn as sk\n",
    "import matplotlib.pyplot as plt\n",
    "import matplotlib.path as pt\n",
    "import warnings\n",
    "from sklearn import pipeline,preprocessing,metrics,model_selection,ensemble\n",
    "from sklearn_pandas import DataFrameMapper\n",
    "data = pd.read_csv(r\"C:\\Users\\sandhya rani\\Downloads\\KSR_dam_final_wd.csv\",date_parser=[\"UNIQUE_KEY\"])\n",
    "\n",
    "from sklearn.metrics import r2_score\n",
    "import numpy as np\n",
    "X = data.OUTFLOW_CUECS\n",
    "Y = data.RES_LEVEL_FT\n",
    "train_x = X[:2000]\n",
    "train_y = Y[:2000]\n",
    "test_x = X[2000:]\n",
    "test_y = Y[2000:]\n",
    "my_model = np.poly1d(np.polyfit(train_x,train_y,4))\n",
    "r2 =r2_score(test_y,(my_model(test_x)))\n",
    "print(r2)\n",
    "(plt.scatter(X,Y))"
   ]
  },
  {
   "cell_type": "code",
   "execution_count": 4,
   "metadata": {},
   "outputs": [],
   "source": [
    "#r2_score b/w res_level and present_storage_tmc"
   ]
  },
  {
   "cell_type": "code",
   "execution_count": 16,
   "metadata": {},
   "outputs": [
    {
     "name": "stdout",
     "output_type": "stream",
     "text": [
      "0.9999376954321085\n"
     ]
    },
    {
     "data": {
      "text/plain": [
       "<matplotlib.collections.PathCollection at 0x24eba8edb80>"
      ]
     },
     "execution_count": 16,
     "metadata": {},
     "output_type": "execute_result"
    },
    {
     "data": {
      "image/png": "[encoded data removed]",
      "text/plain": [
       "<Figure size 432x288 with 1 Axes>"
      ]
     },
     "metadata": {
      "needs_background": "light"
     },
     "output_type": "display_data"
    }
   ],
   "source": [
    "import pandas as pd\n",
    "import datetime\n",
    "import sklearn as sk\n",
    "import matplotlib.pyplot as plt\n",
    "import matplotlib.path as pt\n",
    "import warnings\n",
    "from sklearn import pipeline,preprocessing,metrics,model_selection,ensemble\n",
    "from sklearn_pandas import DataFrameMapper\n",
    "data = pd.read_csv(r\"C:\\Users\\sandhya rani\\Downloads\\KSR_dam_final_wd.csv\",date_parser=[\"UNIQUE_KEY\"])\n",
    "\n",
    "from sklearn.metrics import r2_score\n",
    "import numpy as np\n",
    "X = data.RES_LEVEL_FT\n",
    "Y = data.PRESENT_STORAGE_TMC\n",
    "train_x = X[:2000]\n",
    "train_y = Y[:2000]\n",
    "test_x = X[2000:]\n",
    "test_y = Y[2000:]\n",
    "my_model = np.poly1d(np.polyfit(train_x,train_y,4))\n",
    "r2 =r2_score(test_y,(my_model(test_x)))\n",
    "print(r2)\n",
    "plt.scatter(X,Y)"
   ]
  },
  {
   "cell_type": "code",
   "execution_count": 6,
   "metadata": {},
   "outputs": [],
   "source": [
    "#r2_score b/w inflow_cusecs and res_level"
   ]
  },
  {
   "cell_type": "code",
   "execution_count": 18,
   "metadata": {},
   "outputs": [
    {
     "name": "stdout",
     "output_type": "stream",
     "text": [
      "0.12050727447555909\n"
     ]
    },
    {
     "data": {
      "text/plain": [
       "<matplotlib.collections.PathCollection at 0x24ebac12ee0>"
      ]
     },
     "execution_count": 18,
     "metadata": {},
     "output_type": "execute_result"
    },
    {
     "data": {
      "image/png": "[encoded data removed]",
      "text/plain": [
       "<Figure size 432x288 with 1 Axes>"
      ]
     },
     "metadata": {
      "needs_background": "light"
     },
     "output_type": "display_data"
    }
   ],
   "source": [
    "import pandas as pd\n",
    "import datetime\n",
    "import sklearn as sk\n",
    "import matplotlib.pyplot as plt\n",
    "import matplotlib.path as pt\n",
    "import warnings\n",
    "from sklearn import pipeline,preprocessing,metrics,model_selection,ensemble\n",
    "from sklearn_pandas import DataFrameMapper\n",
    "data = pd.read_csv(r\"C:\\Users\\sandhya rani\\Downloads\\KSR_dam_final_wd.csv\",date_parser=[\"UNIQUE_KEY\"])\n",
    "\n",
    "from sklearn.metrics import r2_score\n",
    "import numpy as np\n",
    "X = data.INFLOW_CUSECS\n",
    "Y = data.RES_LEVEL_FT\n",
    "train_x = X[:2000]\n",
    "train_y = Y[:2000]\n",
    "test_x = X[2000:]\n",
    "test_y = Y[2000:]\n",
    "my_model = np.poly1d(np.polyfit(train_x,train_y,4))\n",
    "r2 =r2_score(test_y,(my_model(test_x)))\n",
    "print(r2)\n",
    "plt.scatter(X,Y)"
   ]
  },
  {
   "cell_type": "code",
   "execution_count": null,
   "metadata": {},
   "outputs": [],
   "source": []
  }
 ],
 "metadata": {
  "kernelspec": {
   "display_name": "Python 3",
   "language": "python",
   "name": "python3"
  },
  "language_info": {
   "codemirror_mode": {
    "name": "ipython",
    "version": 3
   },
   "file_extension": ".py",
   "mimetype": "text/x-python",
   "name": "python",
   "nbconvert_exporter": "python",
   "pygments_lexer": "ipython3",
   "version": "3.8.8"
  }
 },
 "nbformat": 4,
 "nbformat_minor": 4
}
